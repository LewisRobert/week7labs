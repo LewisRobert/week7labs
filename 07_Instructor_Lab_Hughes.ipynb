{
 "cells": [
  {
   "cell_type": "markdown",
   "id": "69e8e544-85ae-4d56-87a1-45509c1155e6",
   "metadata": {},
   "source": [
    "Instructor Led Lab \n",
    "Lewis Hughes \n",
    "Intro to Python \n",
    "4/14/25"
   ]
  },
  {
   "cell_type": "markdown",
   "id": "0954e702-89a0-49bc-9e6c-fabb20ab96b6",
   "metadata": {},
   "source": [
    "Importing Modules"
   ]
  },
  {
   "cell_type": "code",
   "execution_count": 5,
   "id": "2bc9aefb-cbb8-4d9c-b711-b280fc2cdc27",
   "metadata": {},
   "outputs": [
    {
     "name": "stdout",
     "output_type": "stream",
     "text": [
      "Requirement already satisfied: pandas in /Library/Frameworks/Python.framework/Versions/3.13/lib/python3.13/site-packages (2.2.3)\n",
      "Requirement already satisfied: numpy>=1.26.0 in /Library/Frameworks/Python.framework/Versions/3.13/lib/python3.13/site-packages (from pandas) (2.2.4)\n",
      "Requirement already satisfied: python-dateutil>=2.8.2 in /Library/Frameworks/Python.framework/Versions/3.13/lib/python3.13/site-packages (from pandas) (2.9.0.post0)\n",
      "Requirement already satisfied: pytz>=2020.1 in /Library/Frameworks/Python.framework/Versions/3.13/lib/python3.13/site-packages (from pandas) (2025.2)\n",
      "Requirement already satisfied: tzdata>=2022.7 in /Library/Frameworks/Python.framework/Versions/3.13/lib/python3.13/site-packages (from pandas) (2025.2)\n",
      "Requirement already satisfied: six>=1.5 in /Library/Frameworks/Python.framework/Versions/3.13/lib/python3.13/site-packages (from python-dateutil>=2.8.2->pandas) (1.17.0)\n"
     ]
    }
   ],
   "source": [
    "!pip install pandas # Had to install pandas"
   ]
  },
  {
   "cell_type": "code",
   "execution_count": 59,
   "id": "1dee4319-ae72-4ad0-9fef-f84d4191ca6d",
   "metadata": {},
   "outputs": [
    {
     "name": "stdout",
     "output_type": "stream",
     "text": [
      "Collecting scikit-learn\n",
      "  Downloading scikit_learn-1.6.1-cp313-cp313-macosx_10_13_x86_64.whl.metadata (31 kB)\n",
      "Requirement already satisfied: numpy>=1.19.5 in /Library/Frameworks/Python.framework/Versions/3.13/lib/python3.13/site-packages (from scikit-learn) (2.2.4)\n",
      "Collecting scipy>=1.6.0 (from scikit-learn)\n",
      "  Downloading scipy-1.15.2-cp313-cp313-macosx_14_0_x86_64.whl.metadata (61 kB)\n",
      "Collecting joblib>=1.2.0 (from scikit-learn)\n",
      "  Downloading joblib-1.4.2-py3-none-any.whl.metadata (5.4 kB)\n",
      "Collecting threadpoolctl>=3.1.0 (from scikit-learn)\n",
      "  Downloading threadpoolctl-3.6.0-py3-none-any.whl.metadata (13 kB)\n",
      "Downloading scikit_learn-1.6.1-cp313-cp313-macosx_10_13_x86_64.whl (12.0 MB)\n",
      "\u001b[2K   \u001b[90m━━━━━━━━━━━━━━━━━━━━━━━━━━━━━━━━━━━━━━━━\u001b[0m \u001b[32m12.0/12.0 MB\u001b[0m \u001b[31m15.6 MB/s\u001b[0m eta \u001b[36m0:00:00\u001b[0m00:01\u001b[0m00:01\u001b[0m\n",
      "Downloading joblib-1.4.2-py3-none-any.whl (301 kB)\n",
      "Downloading scipy-1.15.2-cp313-cp313-macosx_14_0_x86_64.whl (25.2 MB)\n",
      "\u001b[2K   \u001b[90m━━━━━━━━━━━━━━━━━━━━━━━━━━━━━━━━━━━━━━━━\u001b[0m \u001b[32m25.2/25.2 MB\u001b[0m \u001b[31m12.9 MB/s\u001b[0m eta \u001b[36m0:00:00\u001b[0m00:01\u001b[0m00:01\u001b[0m\n",
      "Downloading threadpoolctl-3.6.0-py3-none-any.whl (18 kB)\n",
      "Installing collected packages: threadpoolctl, scipy, joblib, scikit-learn\n",
      "Successfully installed joblib-1.4.2 scikit-learn-1.6.1 scipy-1.15.2 threadpoolctl-3.6.0\n"
     ]
    }
   ],
   "source": [
    "!pip install scikit-learn "
   ]
  },
  {
   "cell_type": "code",
   "execution_count": 63,
   "id": "a14d2c7c-f40f-4130-b05d-438cf96ea66a",
   "metadata": {},
   "outputs": [],
   "source": [
    "import os\n",
    "import pandas as pd\n",
    "from sklearn.model_selection import KFold\n",
    "import numpy as np"
   ]
  },
  {
   "cell_type": "markdown",
   "id": "36938def-2a87-44d7-82fe-c30293cff720",
   "metadata": {},
   "source": [
    "Set Working Directory "
   ]
  },
  {
   "cell_type": "code",
   "execution_count": 15,
   "id": "8b090f3d-ec07-4152-bc4d-7a928555131d",
   "metadata": {},
   "outputs": [],
   "source": [
    "os.chdir(\"/Users/lewishughes/Desktop/GitHub/week2labs/week7labs\")"
   ]
  },
  {
   "cell_type": "markdown",
   "id": "50a5cd94-bf9a-4f55-b9de-1bd77923c476",
   "metadata": {},
   "source": [
    "Access Data"
   ]
  },
  {
   "cell_type": "code",
   "execution_count": 21,
   "id": "9ba1ae01-b6e1-4cdc-8b48-151b196d41a1",
   "metadata": {},
   "outputs": [],
   "source": [
    "gh_teams = pd.read_csv('data/github_teams.csv') #open the file"
   ]
  },
  {
   "cell_type": "markdown",
   "id": "961baf2b-1d04-48d8-948a-b7e70c5fd49a",
   "metadata": {},
   "source": [
    "Inspect Columns"
   ]
  },
  {
   "cell_type": "code",
   "execution_count": 22,
   "id": "67366d8c-4290-4481-a8df-8b0ad6fb9b20",
   "metadata": {},
   "outputs": [
    {
     "data": {
      "text/plain": [
       "Index(['name_h', 'Team_type', 'Team_size_class', 'human_members_count',\n",
       "       'bot_members_count', 'human_work', 'work_per_human', 'human_gini',\n",
       "       'human_Push', 'human_IssueComments', 'human_PRReviewComment',\n",
       "       'human_MergedPR', 'bot_work', 'bot_Push', 'bot_IssueComments',\n",
       "       'bot_PRReviewComment', 'bot_MergedPR', 'eval_survival_day_median',\n",
       "       'issues_count'],\n",
       "      dtype='object')"
      ]
     },
     "execution_count": 22,
     "metadata": {},
     "output_type": "execute_result"
    }
   ],
   "source": [
    "gh_teams.columns # inspecting columns"
   ]
  },
  {
   "cell_type": "code",
   "execution_count": 34,
   "id": "a2bc7f46-8d8e-4a69-9441-1ed2ac82e9b9",
   "metadata": {},
   "outputs": [
    {
     "name": "stdout",
     "output_type": "stream",
     "text": [
      "Column headers: ['name_h', 'Team_type', 'Team_size_class', 'human_members_count', 'bot_members_count', 'human_work', 'work_per_human', 'human_gini', 'human_Push', 'human_IssueComments', 'human_PRReviewComment', 'human_MergedPR', 'bot_work', 'bot_Push', 'bot_IssueComments', 'bot_PRReviewComment', 'bot_MergedPR', 'eval_survival_day_median', 'issues_count']\n"
     ]
    }
   ],
   "source": [
    "# Listing column header names\n",
    "print(\"Column headers:\", gh_teams.columns.tolist()) "
   ]
  },
  {
   "cell_type": "code",
   "execution_count": 35,
   "id": "fc702f53-13c4-425d-b54f-56d3842e7566",
   "metadata": {},
   "outputs": [
    {
     "name": "stdout",
     "output_type": "stream",
     "text": [
      "Number of columns: 19\n"
     ]
    }
   ],
   "source": [
    "# Listing the number of columns\n",
    "print(\"Number of columns:\", gh_teams.shape[1]) "
   ]
  },
  {
   "cell_type": "code",
   "execution_count": 33,
   "id": "b06717ad-6c12-48a4-be96-c6f83ca52bbe",
   "metadata": {},
   "outputs": [
    {
     "name": "stdout",
     "output_type": "stream",
     "text": [
      "Number of rows: 608\n"
     ]
    }
   ],
   "source": [
    "# Listing the number of rows\n",
    "print(\"Number of rows:\", gh_teams.shape[0]) "
   ]
  },
  {
   "cell_type": "code",
   "execution_count": 28,
   "id": "8e843345-6bbe-4436-9099-8386358ba742",
   "metadata": {},
   "outputs": [
    {
     "name": "stdout",
     "output_type": "stream",
     "text": [
      "Converted columns to category: ['name_h', 'Team_type', 'Team_size_class']\n"
     ]
    }
   ],
   "source": [
    "# Convert object-type columns to category\n",
    "categorical_cols = gh_teams.select_dtypes(include='object').columns\n",
    "gh_teams[categorical_cols] = gh_teams[categorical_cols].astype('category')\n",
    "print(\"Converted columns to category:\", categorical_cols.tolist())"
   ]
  },
  {
   "cell_type": "code",
   "execution_count": 29,
   "id": "d5ef4b31-3d6b-437b-94dc-c62800809e74",
   "metadata": {},
   "outputs": [
    {
     "name": "stdout",
     "output_type": "stream",
     "text": [
      "Unique Team_type values: 2\n"
     ]
    }
   ],
   "source": [
    "# Unique values in Team_type\n",
    "print(\"Unique Team_type values:\", gh_teams['Team_type'].nunique())"
   ]
  },
  {
   "cell_type": "code",
   "execution_count": 30,
   "id": "faf1f4b1-70b4-46c2-952d-0e7261a2b38c",
   "metadata": {},
   "outputs": [
    {
     "name": "stdout",
     "output_type": "stream",
     "text": [
      "Unique Team_size_class values: 3\n"
     ]
    }
   ],
   "source": [
    "# Unique values in Team_size_class\n",
    "print(\"Unique Team_size_class values:\", gh_teams['Team_size_class'].nunique())"
   ]
  },
  {
   "cell_type": "code",
   "execution_count": 32,
   "id": "4116081b-54e1-4cb5-a282-447036e4a2b6",
   "metadata": {},
   "outputs": [
    {
     "name": "stdout",
     "output_type": "stream",
     "text": [
      "Value at 63rd row, 6th column: 35\n"
     ]
    }
   ],
   "source": [
    "# Value of the 63rd row and 6th column\n",
    "value_63_6 = gh_teams.iloc[62, 5]\n",
    "print(\"Value at 63rd row, 6th column:\", value_63_6)"
   ]
  },
  {
   "cell_type": "code",
   "execution_count": 36,
   "id": "c1bcba3e-da83-487d-81d8-fafac715b584",
   "metadata": {},
   "outputs": [
    {
     "name": "stdout",
     "output_type": "stream",
     "text": [
      "300th row values:\n",
      " name_h                      IyfocAGfAHLncCVJUujqTA/A_QZ6HlUb5sRQHhPa7SGzQ\n",
      "Team_type                                                       human-bot\n",
      "Team_size_class                                                    Medium\n",
      "human_members_count                                                     4\n",
      "bot_members_count                                                       1\n",
      "human_work                                                           1049\n",
      "work_per_human                                                     262.25\n",
      "human_gini                                                       0.448761\n",
      "human_Push                                                            739\n",
      "human_IssueComments                                                   213\n",
      "human_PRReviewComment                                                  91\n",
      "human_MergedPR                                                          6\n",
      "bot_work                                                               52\n",
      "bot_Push                                                                0\n",
      "bot_IssueComments                                                      52\n",
      "bot_PRReviewComment                                                     0\n",
      "bot_MergedPR                                                            0\n",
      "eval_survival_day_median                                             27.0\n",
      "issues_count                                                        243.0\n",
      "Name: 299, dtype: object\n"
     ]
    }
   ],
   "source": [
    "# Values for the 300th row\n",
    "print(\"300th row values:\\n\", gh_teams.iloc[299])"
   ]
  },
  {
   "cell_type": "code",
   "execution_count": 40,
   "id": "3bc93a7f-c00b-4f66-a867-792b2377a9e3",
   "metadata": {},
   "outputs": [
    {
     "name": "stdout",
     "output_type": "stream",
     "text": [
      "Method 1: name_h             zAh1NECRCquqUJ_-1d6hAw/DET3jTK8hokYfY_neJ1IVQ\n",
      "Team_type                                              human-bot\n",
      "Team_size_class                                            Small\n",
      "Name: 595, dtype: object\n"
     ]
    }
   ],
   "source": [
    "#Index 595 value method 1 \n",
    "print(\"Method 1:\", gh_teams.iloc[595, 0:3])"
   ]
  },
  {
   "cell_type": "code",
   "execution_count": 41,
   "id": "4647c720-d68f-46e6-b549-8219e122ab1c",
   "metadata": {},
   "outputs": [
    {
     "name": "stdout",
     "output_type": "stream",
     "text": [
      "Method 2:\n",
      " name_h             zAh1NECRCquqUJ_-1d6hAw/DET3jTK8hokYfY_neJ1IVQ\n",
      "Team_type                                              human-bot\n",
      "Team_size_class                                            Small\n",
      "Name: 595, dtype: object\n"
     ]
    }
   ],
   "source": [
    "#Index 595 value method 2 \n",
    "print(\"Method 2:\\n\", gh_teams.loc[595][gh_teams.columns[0:3]])"
   ]
  },
  {
   "cell_type": "code",
   "execution_count": 42,
   "id": "05b7a9f2-6591-45cb-8840-b161a1698310",
   "metadata": {},
   "outputs": [
    {
     "name": "stdout",
     "output_type": "stream",
     "text": [
      "Method 3:\n",
      "                                             name_h  Team_type Team_size_class\n",
      "595  zAh1NECRCquqUJ_-1d6hAw/DET3jTK8hokYfY_neJ1IVQ  human-bot           Small\n"
     ]
    }
   ],
   "source": [
    "#Index 595 value method 3 \n",
    "print(\"Method 3:\\n\", gh_teams[gh_teams.index == 595].iloc[:, 0:3])"
   ]
  },
  {
   "cell_type": "code",
   "execution_count": 43,
   "id": "648f3703-4093-4880-867b-476368d1c9d6",
   "metadata": {},
   "outputs": [
    {
     "name": "stdout",
     "output_type": "stream",
     "text": [
      "Method 1: Team_size_class       Medium\n",
      "work_per_human     31.833333\n",
      "Name: 46, dtype: object\n"
     ]
    }
   ],
   "source": [
    "#Index 46 mrthod 1 \n",
    "print(\"Method 1:\", gh_teams.iloc[46, [2, 6]])"
   ]
  },
  {
   "cell_type": "code",
   "execution_count": 44,
   "id": "34fedf01-9abb-4b3a-b25d-5f29edc6f521",
   "metadata": {},
   "outputs": [
    {
     "name": "stdout",
     "output_type": "stream",
     "text": [
      "Method 2:\n",
      " Team_size_class       Medium\n",
      "work_per_human     31.833333\n",
      "Name: 46, dtype: object\n"
     ]
    }
   ],
   "source": [
    "#Index 46 method 2\n",
    "print(\"Method 2:\\n\", gh_teams.loc[46, [gh_teams.columns[2], gh_teams.columns[6]]])"
   ]
  },
  {
   "cell_type": "code",
   "execution_count": 46,
   "id": "aa431966-3a97-4002-9bd4-0f0b5fbe54b0",
   "metadata": {},
   "outputs": [],
   "source": [
    "#New data frame method 1 \n",
    "bot_work_df_1 = gh_teams[['bot_work']]"
   ]
  },
  {
   "cell_type": "code",
   "execution_count": 47,
   "id": "be48e67d-377f-4cdf-9dcc-141c99bbd35c",
   "metadata": {},
   "outputs": [],
   "source": [
    "#New data frame method 2 \n",
    "bot_work_df_2 = gh_teams.loc[:, ['bot_work']]"
   ]
  },
  {
   "cell_type": "markdown",
   "id": "a9df434b-9fa5-45f4-a885-e288899afbd3",
   "metadata": {},
   "source": [
    "Sorting and Ordering Data"
   ]
  },
  {
   "cell_type": "code",
   "execution_count": 50,
   "id": "5f22e594-b0d5-4b02-bb0f-60953be1869a",
   "metadata": {},
   "outputs": [
    {
     "name": "stdout",
     "output_type": "stream",
     "text": [
      "                                            name_h  Team_type Team_size_class  \\\n",
      "3    _l5u7I5p4thtW5SjR_9_4w/aZNCdVXta7fh7eCMzZP1CA  human-bot           Large   \n",
      "4    _l5u7I5p4thtW5SjR_9_4w/m_FpD7PKQHqVXHn2bh7u2g  human-bot           Large   \n",
      "42   2-scMrZv13F95YPZmfieww/4Zc56iUYjIZrZU06omFrJw  human-bot           Large   \n",
      "84   4YoH8row044yJjPIqWJw9Q/NSXj3i61X71lV0StTN71Ww  human-bot           Small   \n",
      "89   5Is-_ie16OEGmW1arZm8qg/8UeSk2P76pTG7pPLtxsHTQ  human-bot           Large   \n",
      "110  7sA-8-nyqr0Ri2CT4-FSZw/GJPQoUhHfvUsxKcdkHWLEw  human-bot           Small   \n",
      "146  bi5TY2Z4OSQq3PMs6JnKYA/5wtZcUUo1XmLHIra8NDtFQ  human-bot          Medium   \n",
      "147  bi5TY2Z4OSQq3PMs6JnKYA/9b9IqkDK14ketwn88f3hKA  human-bot           Small   \n",
      "149  bi5TY2Z4OSQq3PMs6JnKYA/kIiAIJpk6lOa6Nxf234KkQ  human-bot           Small   \n",
      "224  FAhkB4rsocfDW0vrM8U8NA/3KHgTzOwWtAxTXlp_mbqoA  human-bot           Large   \n",
      "229  FAhkB4rsocfDW0vrM8U8NA/Tl_ZLGwQZrAi-GHyEKl_jA  human-bot           Large   \n",
      "231  FAhkB4rsocfDW0vrM8U8NA/zHikYkcLoXRCKt2cUrRvvg  human-bot           Large   \n",
      "268  hXoZRbHPbVxh--funPXSiw/iNU0l_SpKVjGfHOp8vUt8w  human-bot           Small   \n",
      "325  kpY6vTbIlrk6Nrjilv8zhw/o_e0F16zwdovR3aFgIQipQ  human-bot           Large   \n",
      "331  LDm8GbdhrDbcBGJF0dR_5g/-L63SLGp3n6MA-y5Di59og  human-bot           Large   \n",
      "345  MC6oqT7o22Y_rULWJZllfA/MXyVzmYYom7cgybNB0CjFQ  human-bot           Large   \n",
      "376  O8b2IFn80coqzdP6IwbEKg/uAklmRuq-bJgMfb-PuSjSg  human-bot          Medium   \n",
      "413  Q658evmRIuaDEnUGlBqzYw/m-hxXTPKmxu3fh32f-RHtg  human-bot           Small   \n",
      "441  ReeJIVTm1BiV_SO5tNDVFA/ZfIj2C4Weg8to684MM7PGA  human-bot           Large   \n",
      "472  sq4hB0bA5jL3X3tvK_-stg/5YplqVgfP__pUXTJ9SMoQA  human-bot          Medium   \n",
      "473  sq4hB0bA5jL3X3tvK_-stg/G5WoDm7Rms4zNbJ3nc6hZA  human-bot           Large   \n",
      "541  vPPJXk7AxaaZyPsmA3MniQ/euqt0qlPNtbUnKy41316mA  human-bot          Medium   \n",
      "568  X1pcjhqqelcsRxAhcbNu-w/HJ1fkoQOuwxXJ25L7FGEcw  human-bot          Medium   \n",
      "586  YQI5l7pwpiRU8KVKXkNjjg/fCxq0R6_z233Fdr2Ly6iug  human-bot          Medium   \n",
      "\n",
      "     human_members_count  bot_members_count  human_work  work_per_human  \\\n",
      "3                    234                 12       14579       62.303419   \n",
      "4                     38                  8        1625       42.763158   \n",
      "42                    23                  2        4648      202.086957   \n",
      "84                     2                  2         114       57.000000   \n",
      "89                    17                  4        7412      436.000000   \n",
      "110                    3                  2         244       81.333333   \n",
      "146                    4                  2         170       42.500000   \n",
      "147                    3                  2         189       63.000000   \n",
      "149                    3                  2          88       29.333333   \n",
      "224                   15                  2        4821      321.400000   \n",
      "229                   18                  2        2328      129.333333   \n",
      "231                   17                  2         816       48.000000   \n",
      "268                    2                  2         910      455.000000   \n",
      "325                   29                  2        2891       99.689655   \n",
      "331                   18                  2         840       46.666667   \n",
      "345                    7                  2        1421      203.000000   \n",
      "376                    4                  2          35        8.750000   \n",
      "413                    2                  2         256      128.000000   \n",
      "441                   15                  2        2211      147.400000   \n",
      "472                    4                  2         484      121.000000   \n",
      "473                   27                  2        2282       84.518519   \n",
      "541                    4                  2         297       74.250000   \n",
      "568                    5                  2         281       56.200000   \n",
      "586                    5                  2        1644      328.800000   \n",
      "\n",
      "     human_gini  human_Push  human_IssueComments  human_PRReviewComment  \\\n",
      "3      0.738342        1942                11430                   1170   \n",
      "4      0.666607         203                 1270                    152   \n",
      "42     0.560241         864                 2574                   1174   \n",
      "84     0.491228         114                    0                      0   \n",
      "89     0.439621        4182                 1257                   1917   \n",
      "110    0.502732         171                   73                      0   \n",
      "146    0.717647         144                    7                     19   \n",
      "147    0.624339         174                   10                      5   \n",
      "149    0.636364          74                    7                      7   \n",
      "224    0.689096        2564                 1801                    386   \n",
      "229    0.680126         573                  795                    960   \n",
      "231    0.683824         177                  447                    192   \n",
      "268    0.065934         207                  369                    334   \n",
      "325    0.752705         762                 1793                    302   \n",
      "331    0.579894         118                  603                    113   \n",
      "345    0.504072         444                  277                    644   \n",
      "376    0.350000          22                   13                      0   \n",
      "413    0.425781         230                    5                     21   \n",
      "441    0.544068         214                 1312                    685   \n",
      "472    0.626033         304                  180                      0   \n",
      "473    0.815302         933                 1275                     74   \n",
      "541    0.521044         275                    5                      0   \n",
      "568    0.422776          95                   94                     85   \n",
      "586    0.560341         214                  997                    433   \n",
      "\n",
      "     human_MergedPR  bot_work  bot_Push  bot_IssueComments  \\\n",
      "3                37      1972         0               1972   \n",
      "4                 0       302         0                302   \n",
      "42               36      1325         0               1325   \n",
      "84                0        37         0                 37   \n",
      "89               56       358         5                202   \n",
      "110               0       136         0                136   \n",
      "146               0       104         0                104   \n",
      "147               0       125         0                125   \n",
      "149               0        74         0                 74   \n",
      "224              70       270        90                116   \n",
      "229               0       117        12                 66   \n",
      "231               0       217        45                113   \n",
      "268               0       114         0                114   \n",
      "325              34       790         1                789   \n",
      "331               6        79         0                 79   \n",
      "345              56        77         0                 77   \n",
      "376               0        26         0                 26   \n",
      "413               0       118         0                118   \n",
      "441               0        50         0                 47   \n",
      "472               0       298         0                298   \n",
      "473               0       475         0                457   \n",
      "541              17       177         0                167   \n",
      "568               7        51         0                 51   \n",
      "586               0       684       251                433   \n",
      "\n",
      "     bot_PRReviewComment  bot_MergedPR  eval_survival_day_median  issues_count  \n",
      "3                      0             0                       1.0        4757.0  \n",
      "4                      0             0                       2.0         777.0  \n",
      "42                     0             0                      11.0        1635.0  \n",
      "84                     0             0                       0.0          14.0  \n",
      "89                   151             0                       2.0         495.0  \n",
      "110                    0             0                       1.0          41.0  \n",
      "146                    0             0                       NaN           NaN  \n",
      "147                    0             0                      35.0           9.0  \n",
      "149                    0             0                       NaN           NaN  \n",
      "224                   52            12                      13.0        1522.0  \n",
      "229                   39             0                      22.0         303.0  \n",
      "231                   59             0                      11.0         241.0  \n",
      "268                    0             0                       4.0          64.0  \n",
      "325                    0             0                       7.0        1283.0  \n",
      "331                    0             0                      16.0         369.0  \n",
      "345                    0             0                      19.0         124.0  \n",
      "376                    0             0                       NaN           NaN  \n",
      "413                    0             0                       0.0           7.0  \n",
      "441                    3             0                       9.0           6.0  \n",
      "472                    0             0                      12.0          92.0  \n",
      "473                    0            18                       2.0         603.0  \n",
      "541                    0            10                       0.0          20.0  \n",
      "568                    0             0                      64.0          25.0  \n",
      "586                    0             0                       4.0          45.0  \n"
     ]
    }
   ],
   "source": [
    "# Select human-bot teams with bot_members_count >= 2\n",
    "human_bot_teams = gh_teams[(gh_teams['Team_type'] == 'human-bot') & (gh_teams['bot_members_count'] >= 2)]\n",
    "print(human_bot_teams)"
   ]
  },
  {
   "cell_type": "code",
   "execution_count": 52,
   "id": "31916a0c-ecce-4abe-a9b5-f7380e96414e",
   "metadata": {},
   "outputs": [
    {
     "name": "stdout",
     "output_type": "stream",
     "text": [
      "                                            name_h Team_type Team_size_class  \\\n",
      "138  ASYGR96YA91p3z7MNKjZCA/IB2pZ8ygcvNnlxUdysjSFA     human           Large   \n",
      "285  IiUao8vA_zm_uEIVVLI-Sw/91ya8vlSP8qgwCllH_6BSw     human           Large   \n",
      "505  uLHPO58cQefwrJUbyhYOKQ/7YWOP8uDEeKDHQMWKqOoYA     human           Large   \n",
      "582  y8Jw59EHVSrsluSuhR5okg/V5vb074jNkzg4YCKforX1Q     human           Large   \n",
      "\n",
      "     human_members_count  bot_members_count  human_work  work_per_human  \\\n",
      "138                   12                  0        1655      137.916667   \n",
      "285                   25                  0        3599      143.960000   \n",
      "505                   48                  0        5748      119.750000   \n",
      "582                    8                  0         277       34.625000   \n",
      "\n",
      "     human_gini  human_Push  human_IssueComments  human_PRReviewComment  \\\n",
      "138    0.799446         793                  684                    178   \n",
      "285    0.863507        1249                 2350                      0   \n",
      "505    0.782040        1715                 3891                    142   \n",
      "582    0.781137         275                    2                      0   \n",
      "\n",
      "     human_MergedPR  bot_work  bot_Push  bot_IssueComments  \\\n",
      "138               0         0         0                  0   \n",
      "285               0         0         0                  0   \n",
      "505               0         0         0                  0   \n",
      "582               0         0         0                  0   \n",
      "\n",
      "     bot_PRReviewComment  bot_MergedPR  eval_survival_day_median  issues_count  \n",
      "138                    0             0                       4.0         190.0  \n",
      "285                    0             0                       0.0        1245.0  \n",
      "505                    0             0                       0.0        1200.0  \n",
      "582                    0             0                       NaN           NaN  \n"
     ]
    }
   ],
   "source": [
    "# Find human teams that are Large and have human_gini >= 0.75\n",
    "large_human_gini = gh_teams[(gh_teams['Team_type'] == 'human') &\n",
    "                      (gh_teams['Team_size_class'] == 'Large') &\n",
    "                      (gh_teams['human_gini'] >= 0.75)]\n",
    "print(large_human_gini)"
   ]
  },
  {
   "cell_type": "code",
   "execution_count": 53,
   "id": "4e98c406-e715-49b8-8731-91122333040d",
   "metadata": {},
   "outputs": [
    {
     "name": "stdout",
     "output_type": "stream",
     "text": [
      "Small or Large team count: 428\n"
     ]
    }
   ],
   "source": [
    "# Count of teams in Small or Large category\n",
    "small_large_count = gh_teams[gh_teams['Team_size_class'].isin(['Small', 'Large'])].shape[0]\n",
    "print(\"Small or Large team count:\", small_large_count)"
   ]
  },
  {
   "cell_type": "code",
   "execution_count": 54,
   "id": "58d07ccd-1a68-4938-9fcd-36b4c67aa29a",
   "metadata": {},
   "outputs": [
    {
     "name": "stdout",
     "output_type": "stream",
     "text": [
      "Small/Large teams with human_gini <= 0.20: 66\n"
     ]
    }
   ],
   "source": [
    "# Count of Small or Large teams with human_gini <= 0.20\n",
    "low_gini_count = gh_teams[(gh_teams['Team_size_class'].isin(['Small', 'Large'])) &\n",
    "                    (gh_teams['human_gini'] <= 0.20)].shape[0]\n",
    "print(\"Small/Large teams with human_gini <= 0.20:\", low_gini_count)"
   ]
  },
  {
   "cell_type": "code",
   "execution_count": 55,
   "id": "10d60791-2bed-4522-a201-fa5c20a886af",
   "metadata": {},
   "outputs": [
    {
     "name": "stdout",
     "output_type": "stream",
     "text": [
      "Medium human-bot team count: 84\n"
     ]
    }
   ],
   "source": [
    "# Count of human-bot teams in Medium category\n",
    "medium_human_bot_count = gh_teams[(gh_teams['Team_type'] == 'human-bot') &\n",
    "                            (gh_teams['Team_size_class'] == 'Medium')].shape[0]\n",
    "print(\"Medium human-bot team count:\", medium_human_bot_count)"
   ]
  },
  {
   "cell_type": "code",
   "execution_count": 56,
   "id": "b0352ff5-5a1b-4f7b-9ef3-7420b7cf93c5",
   "metadata": {},
   "outputs": [],
   "source": [
    "# Subsample 50% of the data\n",
    "gh_teams_subsample = gh_teams.sample(frac=0.5, random_state=1)"
   ]
  },
  {
   "cell_type": "code",
   "execution_count": 61,
   "id": "15bb0c83-175d-4a8b-af06-a2ee05ba8309",
   "metadata": {},
   "outputs": [
    {
     "name": "stdout",
     "output_type": "stream",
     "text": [
      "8-folds created. Example fold indices (first split): (array([  0,   1,   3,   4,   5,   7,   8,   9,  11,  12,  13,  14,  15,\n",
      "        16,  17,  18,  19,  20,  21,  22,  23,  25,  26,  27,  28,  31,\n",
      "        32,  33,  34,  35,  36,  37,  38,  39,  40,  41,  42,  43,  44,\n",
      "        45,  46,  47,  48,  49,  50,  51,  52,  53,  54,  56,  57,  58,\n",
      "        59,  60,  61,  62,  64,  65,  66,  67,  68,  69,  71,  73,  74,\n",
      "        75,  79,  80,  83,  84,  85,  87,  88,  89,  90,  91,  92,  93,\n",
      "        94,  95,  96,  97,  98,  99, 100, 102, 103, 105, 106, 107, 108,\n",
      "       110, 111, 112, 113, 114, 115, 116, 117, 119, 120, 121, 122, 123,\n",
      "       124, 125, 126, 127, 128, 129, 130, 131, 133, 134, 136, 137, 138,\n",
      "       139, 141, 142, 143, 144, 145, 146, 147, 148, 149, 150, 151, 152,\n",
      "       153, 154, 155, 156, 157, 158, 159, 160, 161, 162, 163, 164, 165,\n",
      "       166, 167, 168, 169, 170, 171, 172, 173, 174, 175, 176, 178, 179,\n",
      "       180, 181, 183, 185, 186, 187, 189, 190, 191, 193, 194, 197, 198,\n",
      "       199, 200, 201, 202, 203, 205, 206, 207, 208, 209, 210, 211, 213,\n",
      "       214, 215, 216, 217, 218, 219, 220, 221, 222, 223, 224, 225, 226,\n",
      "       228, 229, 230, 231, 232, 233, 234, 235, 236, 237, 238, 239, 240,\n",
      "       241, 242, 243, 245, 246, 247, 248, 250, 251, 252, 253, 254, 255,\n",
      "       256, 257, 258, 259, 262, 263, 264, 265, 266, 267, 268, 269, 270,\n",
      "       272, 273, 274, 275, 276, 279, 280, 281, 282, 283, 284, 285, 287,\n",
      "       288, 291, 292, 293, 294, 295, 296, 297, 298, 299, 300, 301, 303,\n",
      "       304, 305, 306, 307, 308, 309, 310, 311, 313, 314, 315, 317, 318,\n",
      "       319, 322, 323, 324, 325, 326, 327, 328, 329, 330, 331, 332, 334,\n",
      "       335, 336, 337, 338, 339, 340, 341, 342, 343, 344, 345, 346, 347,\n",
      "       348, 349, 350, 351, 352, 355, 357, 358, 359, 360, 361, 362, 363,\n",
      "       365, 366, 367, 368, 369, 370, 371, 372, 373, 374, 375, 376, 377,\n",
      "       378, 379, 380, 381, 382, 383, 384, 385, 386, 387, 388, 389, 390,\n",
      "       391, 392, 393, 394, 395, 396, 397, 398, 399, 400, 401, 402, 403,\n",
      "       404, 405, 406, 407, 409, 410, 411, 412, 413, 414, 415, 416, 417,\n",
      "       418, 419, 420, 421, 422, 423, 424, 425, 426, 427, 428, 429, 430,\n",
      "       431, 432, 433, 434, 435, 436, 437, 438, 439, 440, 441, 442, 443,\n",
      "       445, 447, 448, 450, 451, 452, 453, 454, 455, 456, 457, 458, 459,\n",
      "       460, 461, 462, 463, 464, 465, 466, 467, 468, 469, 470, 471, 472,\n",
      "       473, 474, 475, 476, 478, 479, 480, 481, 482, 483, 484, 485, 486,\n",
      "       487, 488, 489, 490, 491, 492, 493, 494, 495, 498, 499, 500, 501,\n",
      "       502, 503, 504, 505, 506, 507, 508, 509, 510, 511, 512, 513, 515,\n",
      "       516, 517, 518, 519, 520, 521, 523, 524, 525, 526, 528, 529, 531,\n",
      "       532, 533, 534, 535, 536, 537, 539, 540, 541, 542, 543, 544, 545,\n",
      "       546, 548, 549, 550, 551, 552, 553, 554, 555, 556, 558, 559, 560,\n",
      "       561, 562, 564, 565, 566, 569, 570, 571, 573, 575, 576, 577, 579,\n",
      "       580, 581, 582, 583, 584, 585, 586, 587, 588, 589, 590, 591, 592,\n",
      "       593, 594, 595, 597, 598, 599, 600, 601, 602, 605, 606, 607]), array([  2,   6,  10,  24,  29,  30,  55,  63,  70,  72,  76,  77,  78,\n",
      "        81,  82,  86, 101, 104, 109, 118, 132, 135, 140, 177, 182, 184,\n",
      "       188, 192, 195, 196, 204, 212, 227, 244, 249, 260, 261, 271, 277,\n",
      "       278, 286, 289, 290, 302, 312, 316, 320, 321, 333, 353, 354, 356,\n",
      "       364, 408, 444, 446, 449, 477, 496, 497, 514, 522, 527, 530, 538,\n",
      "       547, 557, 563, 567, 568, 572, 574, 578, 596, 603, 604]))\n"
     ]
    }
   ],
   "source": [
    "# Create 8-fold cross-validation splits\n",
    "kf = KFold(n_splits=8, shuffle=True, random_state=42)\n",
    "folds = list(kf.split(gh_teams))\n",
    "print(\"8-folds created. Example fold indices (first split):\", folds[0])\n"
   ]
  },
  {
   "cell_type": "code",
   "execution_count": 64,
   "id": "505b4a16-c665-44e8-ad95-4d15ef9c435f",
   "metadata": {},
   "outputs": [],
   "source": [
    "# Select numeric columns into a new DataFrame\n",
    "numeric_df = gh_teams.select_dtypes(include=np.number)"
   ]
  },
  {
   "cell_type": "code",
   "execution_count": 65,
   "id": "a8f2c864-7c67-4ebf-872b-5f2d5d164617",
   "metadata": {},
   "outputs": [],
   "source": [
    "# Remove columns 'bot_PRReviewComment' and 'bot_MergedPR'\n",
    "numeric_df_reduced = numeric_df.drop(columns=['bot_PRReviewComment', 'bot_MergedPR'], errors='ignore')"
   ]
  },
  {
   "cell_type": "code",
   "execution_count": 66,
   "id": "f3f2aea1-b970-4175-aedc-939d40cbb7f6",
   "metadata": {},
   "outputs": [],
   "source": [
    "# Save 'Team_size_class' and 'human_members_count' as a new DataFrame\n",
    "size_human_df = gh_teams[['Team_size_class', 'human_members_count']].copy()"
   ]
  },
  {
   "cell_type": "code",
   "execution_count": 67,
   "id": "32bc6096-4b29-460d-b839-553e79f094a6",
   "metadata": {},
   "outputs": [],
   "source": [
    "# Rename the columns\n",
    "size_human_df.columns = ['Size_Class', 'Human_Members']"
   ]
  },
  {
   "cell_type": "code",
   "execution_count": 68,
   "id": "cce0f9a9-f110-4f06-b989-a2773d68721e",
   "metadata": {},
   "outputs": [
    {
     "name": "stdout",
     "output_type": "stream",
     "text": [
      "    Size_Class  Human_Members\n",
      "0        Small              2\n",
      "1        Small              2\n",
      "2        Large              7\n",
      "3        Large            234\n",
      "4        Large             38\n",
      "..         ...            ...\n",
      "603      Small              3\n",
      "604      Small              2\n",
      "605     Medium              5\n",
      "606     Medium              5\n",
      "607      Small              2\n",
      "\n",
      "[608 rows x 2 columns]\n"
     ]
    }
   ],
   "source": [
    "#Displaying Results \n",
    "print(size_human_df)"
   ]
  },
  {
   "cell_type": "markdown",
   "id": "695db3f1-997f-4394-ba60-ccb064eaac95",
   "metadata": {},
   "source": [
    "Refrences:"
   ]
  },
  {
   "cell_type": "markdown",
   "id": "9eb27199-d1d5-4066-a979-487cc6b46a1b",
   "metadata": {},
   "source": [
    "https://scikit-learn.org/stable/modules/generated/sklearn.model_selection.KFold.html\n",
    "\n",
    "I used this website to help on my KFold function\n",
    "\n",
    "https://scikit-learn.org/stable/modules/cross_validation.html\n",
    "\n",
    "I also used this website to help me with the 8-fold cross validation test\n",
    "\n"
   ]
  }
 ],
 "metadata": {
  "kernelspec": {
   "display_name": "Python 3 (ipykernel)",
   "language": "python",
   "name": "python3"
  },
  "language_info": {
   "codemirror_mode": {
    "name": "ipython",
    "version": 3
   },
   "file_extension": ".py",
   "mimetype": "text/x-python",
   "name": "python",
   "nbconvert_exporter": "python",
   "pygments_lexer": "ipython3",
   "version": "3.13.2"
  }
 },
 "nbformat": 4,
 "nbformat_minor": 5
}
